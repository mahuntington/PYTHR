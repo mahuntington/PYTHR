{
 "cells": [
  {
   "cell_type": "markdown",
   "id": "activated-sacramento",
   "metadata": {},
   "source": [
    "<!--\n",
    "title: Python Programming: Advanced Function Arguments\n",
    "type: lesson\n",
    "duration: \"01:00\"\n",
    "creator: Brandi Butler\n",
    "-->\n",
    "\n",
    "\n",
    "<h1>Python Programming: Advanced Function Arguments</h1>\n",
    "\n",
    "\n",
    "<!--\n",
    "\n",
    "## Overview\n",
    "This lesson starts with a review of the previous function lesson, leading into a few recap exercises. After that, it discusses `*args`, `kwargs`, and default argument values.\n",
    "\n",
    "## Important Notes or Prerequisites\n",
    "- Important Note: They don't know dictionaries yet! We introduce `**kwargs`, but are careful not to phrase it in terms of dictionaries.\n",
    "\n",
    "## Learning Objectives\n",
    "In this lesson, students will:\n",
    "- Use arbitrary numbers of arguments in functions.\n",
    "- Use keyword arguments in functions.\n",
    "- Use default values in functions.\n",
    "\n",
    "## Duration\n",
    "40 minutes\n",
    "\n",
    "\n",
    "## Suggested Agenda\n",
    "\n",
    "| Time | Activity |\n",
    "| --- | --- |\n",
    "| 0:00 - 0:03 | Welcome |\n",
    "| 0:03 - 0:10 | Function Review |\n",
    "| 0:10 - 0:30 | Args / Kwargs |\n",
    "| 0:30 - 0:42 | Other Args |\n",
    "| 0:42 - 0:45 | Summary |\n",
    "\n",
    "## In Class: Materials\n",
    "- Projector\n",
    "- Internet connection\n",
    "- Python3\n",
    "-->\n",
    "\n",
    "\n",
    "---\n",
    "\n",
    "## Lesson Objectives\n",
    "*After this lesson, you will be able to...*\n",
    "\n",
    "* Review all topics to this point.\n",
    "* Use keyword arguments in functions.\n",
    "\n",
    "This lesson will help to answer the following:\n",
    "- What if I want to have a variable number of arguments?\n",
    "- What if I want to have my arguments out of order?\n",
    "- What if I want to specify some arguments but not others?\n",
    "\n",
    "---\n",
    "\n",
    "## Review: Functions\n",
    "\n",
    "Main points:\n",
    "\n",
    "* Define functions using the `def` keyword.\n",
    "* A function must be **called** before the code in it will run!\n",
    "* You will recognize function calls by the `()` at the end.\n",
    "\n"
   ]
  },
  {
   "cell_type": "code",
   "execution_count": 1,
   "id": "second-exchange",
   "metadata": {},
   "outputs": [
    {
     "name": "stdout",
     "output_type": "stream",
     "text": [
      "hello world!\n"
     ]
    }
   ],
   "source": [
    "# This part is the function definition!\n",
    "def say_hello():\n",
    "    print(\"hello world!\")\n",
    "\n",
    "# This part is actually calling/running the function!\n",
    "say_hello()"
   ]
  },
  {
   "cell_type": "markdown",
   "id": "civilian-interest",
   "metadata": {},
   "source": [
    "\n",
    "---\n",
    "\n",
    "## Review: Function Arguments\n",
    "\n",
    "* Provide an argument to a function when you need something small to vary."
   ]
  },
  {
   "cell_type": "code",
   "execution_count": null,
   "id": "miniature-orlando",
   "metadata": {},
   "outputs": [],
   "source": [
    "def print_order(product):\n",
    "    print(\"Thank you for ordering the \" + product + \".\")\n",
    "    print(\"There will be a $5.00 shipping charge for this order.\")\n",
    "\n",
    "print_order(\"Trampoline\")\n",
    "print_order(\"Spider-Man Comic\")\n",
    "print_order(\"Hot Cheetos\")\n"
   ]
  },
  {
   "cell_type": "markdown",
   "id": "artificial-style",
   "metadata": {},
   "source": [
    "</aside>\n",
    "\n",
    "\n",
    "---\n",
    "\n",
    "## Multiple Parameters\n",
    "\n",
    "Functions can have...\n",
    "\n"
   ]
  },
  {
   "cell_type": "code",
   "execution_count": null,
   "id": "soviet-strand",
   "metadata": {},
   "outputs": [],
   "source": [
    "# No parameters\n",
    "def add_2_and_3():\n",
    "    x = 2 + 3\n",
    "    print(x)\n",
    "\n",
    "# One parameter\n",
    "def add_2(x):\n",
    "    print(x + 2)\n",
    "\n",
    "# Multiple parameters\n",
    "def add(x, y, z):\n",
    "    print(x + y + z)\n"
   ]
  },
  {
   "cell_type": "markdown",
   "id": "confused-priority",
   "metadata": {},
   "source": [
    "\n",
    "---\n",
    "\n",
    "## Discussion: Print vs Return\n",
    "\n",
    "Why doesn't this do anything?\n",
    "\n"
   ]
  },
  {
   "cell_type": "code",
   "execution_count": null,
   "id": "optical-target",
   "metadata": {},
   "outputs": [],
   "source": [
    "def add(x, y, z):\n",
    "    return x + y + z\n",
    "\n",
    "add(1, 2, 3) # does nothing!\n"
   ]
  },
  {
   "cell_type": "markdown",
   "id": "least-forest",
   "metadata": {},
   "source": [
    "---\n",
    "\n",
    "## We Do: Review Exercises\n",
    "\n",
    "- We'll define a function named `are_both_even`.\n",
    "\n",
    "- It will accept two parameters: `num1` and `num2`.\n",
    "\n",
    "- Inside the function, we'll return `True` if `num1` and `num2` are both even but `False` if they are not.\n",
    "\n",
    "- We'll test this with `print(are_both_even(1, 4))`, `print(are_both_even(2, 4))`, and `print(are_both_even(2, 3))`."
   ]
  },
  {
   "cell_type": "code",
   "execution_count": 4,
   "id": "super-winning",
   "metadata": {},
   "outputs": [
    {
     "name": "stdout",
     "output_type": "stream",
     "text": [
      "False\n",
      "True\n",
      "False\n"
     ]
    }
   ],
   "source": [
    "#function definition\n",
    "def are_both_even(num1, num2):\n",
    "    if num1 % 2 == 0 and num2 % 2 == 0:\n",
    "        return True   \n",
    "    return False\n",
    "\n",
    "print(are_both_even(1, 4))\n",
    "print(are_both_even(2, 4))\n",
    "print(are_both_even(2, 3))"
   ]
  },
  {
   "cell_type": "markdown",
   "id": "mobile-weekly",
   "metadata": {},
   "source": [
    "---\n",
    "\n",
    "## We Do: Another Review Exercise!\n",
    "\n",
    "We'll define another function named `light_or_dark` that takes the parameter `hour`.\n",
    "\n",
    "- If `hour` is greater than 24, the function will print \"That's not an hour in the day!\" and **return nothing.**\n",
    "\n",
    "- If `hour` is less than 7 or greater than 17, the function will return \"It's dark outside!\"\n",
    "\n",
    "- Otherwise, the function will return \"It's light outside!\"\n",
    "\n",
    "- We'll test this with `print(light_or_dark(4))`,  `print(light_or_dark(26))`, and `print(light_or_dark(`10`))`."
   ]
  },
  {
   "cell_type": "code",
   "execution_count": 5,
   "id": "premier-father",
   "metadata": {},
   "outputs": [
    {
     "name": "stdout",
     "output_type": "stream",
     "text": [
      "It's dark outside!\n",
      "That's not an hour in the day!\n",
      "It's light outside!\n"
     ]
    }
   ],
   "source": [
    "# funtion definition\n",
    "def light_or_dark(hour):\n",
    "    if hour > 24:\n",
    "        return \"That's not an hour in the day!\"\n",
    "    elif hour < 7 or hour > 17:\n",
    "        return \"It's dark outside!\"\n",
    "    else:\n",
    "        return \"It's light outside!\"\n",
    "\n",
    "\n",
    "print(light_or_dark(4)) # \"It's dark outside!\"\n",
    "print(light_or_dark(26)) # \"That's not an hour in the day!\"\n",
    "print(light_or_dark(10)) # \"It's light outside!\""
   ]
  },
  {
   "cell_type": "markdown",
   "id": "marked-hughes",
   "metadata": {},
   "source": [
    "---\n",
    "\n",
    "## Discussion: Arguments\n",
    "\n",
    "Now, let's make functions a little more sophisticated.\n",
    "\n",
    "What do you think the following code does?"
   ]
  },
  {
   "cell_type": "code",
   "execution_count": 6,
   "id": "streaming-inspector",
   "metadata": {},
   "outputs": [
    {
     "ename": "TypeError",
     "evalue": "multiply() takes 2 positional arguments but 3 were given",
     "output_type": "error",
     "traceback": [
      "\u001b[1;31m---------------------------------------------------------------------------\u001b[0m",
      "\u001b[1;31mTypeError\u001b[0m                                 Traceback (most recent call last)",
      "\u001b[1;32m<ipython-input-6-d4c29ba084cc>\u001b[0m in \u001b[0;36m<module>\u001b[1;34m\u001b[0m\n\u001b[0;32m      2\u001b[0m     \u001b[0mprint\u001b[0m\u001b[1;33m(\u001b[0m\u001b[0mx\u001b[0m \u001b[1;33m*\u001b[0m \u001b[0my\u001b[0m\u001b[1;33m)\u001b[0m\u001b[1;33m\u001b[0m\u001b[1;33m\u001b[0m\u001b[0m\n\u001b[0;32m      3\u001b[0m \u001b[1;33m\u001b[0m\u001b[0m\n\u001b[1;32m----> 4\u001b[1;33m \u001b[0mmultiply\u001b[0m\u001b[1;33m(\u001b[0m\u001b[1;36m1\u001b[0m\u001b[1;33m,\u001b[0m \u001b[1;36m2\u001b[0m\u001b[1;33m,\u001b[0m \u001b[1;36m3\u001b[0m\u001b[1;33m)\u001b[0m \u001b[1;31m# Too many arguments! What happens?\u001b[0m\u001b[1;33m\u001b[0m\u001b[1;33m\u001b[0m\u001b[0m\n\u001b[0m",
      "\u001b[1;31mTypeError\u001b[0m: multiply() takes 2 positional arguments but 3 were given"
     ]
    }
   ],
   "source": [
    "def multiply(x, y):\n",
    "    print(x * y)\n",
    "\n",
    "multiply(1, 2, 3) # Too many arguments! What happens?\n"
   ]
  },
  {
   "cell_type": "markdown",
   "id": "stuck-steam",
   "metadata": {},
   "source": [
    "\n",
    "What if we want all of these to work?\n",
    "\n"
   ]
  },
  {
   "cell_type": "code",
   "execution_count": null,
   "id": "remarkable-bacteria",
   "metadata": {},
   "outputs": [],
   "source": [
    "def multiply(x, y):\n",
    "    print(x * y)\n",
    "\n",
    "multiply(4, 5, 6)\n",
    "multiply(4, 5)\n",
    "multiply(4, 5, 2, 7, 3, 9)\n"
   ]
  },
  {
   "cell_type": "markdown",
   "id": "light-visit",
   "metadata": {},
   "source": [
    "\n",
    "---\n",
    "\n",
    "## Introducing `*args`\n",
    "\n",
    "`*args` is a parameter that says \"Put as many parameters as you'd like!\"\n",
    "\n",
    "- Pronounced like a pirate - \"arrrrghhhs!\"\n",
    "- Known as **positional arguments**\n",
    "- The `*` at the beginning is what specifies the variable number of arguments\n",
    "\n"
   ]
  },
  {
   "cell_type": "code",
   "execution_count": 9,
   "id": "stuck-twelve",
   "metadata": {},
   "outputs": [
    {
     "name": "stdout",
     "output_type": "stream",
     "text": [
      "120\n"
     ]
    }
   ],
   "source": [
    "def multiply(*args):\n",
    "    product = 1\n",
    "\n",
    "    # We don't know the number of args, so we need a loop\n",
    "    for num in args:\n",
    "        product *= num\n",
    "    print(product)\n",
    "\n",
    "multiply(4, 5, 6) # Prints 120!\n"
   ]
  },
  {
   "cell_type": "markdown",
   "id": "ecological-doubt",
   "metadata": {},
   "source": [
    "\n",
    "---\n",
    "\n",
    "## We Do: `*args`\n",
    "\n",
    "Let's create a local file for this lesson - `args_practice.py`.\n",
    "\n",
    "- We'll write a function, `sum_everything` that takes any numbers of arguments and adds them together.\n",
    "- At the end, we'll print out the sum.\n",
    "- Let's try it with `sum_everything(4, 5, 6)` and `sum_everything(6, 4, 5)`. The order doesn't matter!\n",
    "- `*args` says \"any number\" - you can pass in none at all!"
   ]
  },
  {
   "cell_type": "code",
   "execution_count": 8,
   "id": "recognized-integrity",
   "metadata": {},
   "outputs": [
    {
     "name": "stdout",
     "output_type": "stream",
     "text": [
      "15\n",
      "15\n"
     ]
    }
   ],
   "source": [
    "def sum_everything(*args):\n",
    "    total = 0\n",
    "\n",
    "    # We don't know the number of args, so we need a loop\n",
    "    for num in args:\n",
    "        total += num\n",
    "        \n",
    "    print(total)\n",
    "\n",
    "sum_everything(4, 5, 6)\n",
    "sum_everything(6, 4, 5)"
   ]
  },
  {
   "cell_type": "markdown",
   "id": "anticipated-china",
   "metadata": {},
   "source": [
    "\n",
    "</aside>\n",
    "\n",
    "---\n",
    "\n",
    "## Discussion: Often, Order Does Matter.\n",
    "\n",
    "Let's switch gears. Back to a set number of arguments!\n",
    "\n",
    "Check this out:\n",
    "\n"
   ]
  },
  {
   "cell_type": "code",
   "execution_count": null,
   "id": "rural-profile",
   "metadata": {},
   "outputs": [],
   "source": [
    "def triple_divide(x, y, z):\n",
    "    print(x / y / z)\n",
    "\n",
    "triple_divide(1, 2, 10) # Prints 0.05\n"
   ]
  },
  {
   "cell_type": "markdown",
   "id": "social-browser",
   "metadata": {},
   "source": [
    "Without otherwise specifying, `x` is `1`, `y` is `2`, and `z` is `10`.\n",
    "\n",
    "- What if we want `x`, the first parameter to get the value `10`?\n",
    "- Is there a way to specify which argument goes to which parameter?\n",
    "\n",
    "---\n",
    "\n",
    "## Forcing the Order\n",
    "\n",
    "Here we've forced the order to be reversed from the default. In fact, we can specify any ordering we want by using the names of the parameters (keywords) when providing the argument values.\n",
    "\n",
    "Take a moment to play around with the values until you really believe it!"
   ]
  },
  {
   "cell_type": "code",
   "execution_count": 10,
   "id": "fleet-thanksgiving",
   "metadata": {},
   "outputs": [
    {
     "name": "stdout",
     "output_type": "stream",
     "text": [
      "5.0\n"
     ]
    }
   ],
   "source": [
    "def triple_divide(x, y, z):\n",
    "    print(x / y / z)\n",
    "\n",
    "triple_divide(z=1, y=2, x=10)"
   ]
  },
  {
   "cell_type": "markdown",
   "id": "thick-denmark",
   "metadata": {},
   "source": [
    "---\n",
    "\n",
    "## Keyword Arguments (kwargs)\n",
    "\n",
    "Using kwargs, odrer deons't mtater:\n",
    "\n",
    "- Arguments are named according to their corresponding parameters.\n",
    "- Order doesn't matter - Python will check the names and match them!\n",
    "- Values are assigned because the *keyword argument* and the *parameter name* match."
   ]
  },
  {
   "cell_type": "code",
   "execution_count": null,
   "id": "italian-donor",
   "metadata": {},
   "outputs": [],
   "source": [
    "def triple_divide(x, y, z):\n",
    "    print(x / y / z)\n",
    "\n",
    "triple_divide(x=10, y=2, z=1)\n",
    "# This runs 10 / 2 / 1, and prints 5\n",
    "triple_divide(y=2, z=1, x=10)\n",
    "# This ALSO runs 10 /  2 / 1, and prints 5.\n"
   ]
  },
  {
   "cell_type": "markdown",
   "id": "specific-newfoundland",
   "metadata": {},
   "source": [
    "\n",
    "> **Protip**: Keep your parameter names simple and concise to prevent typos and misspellings!\n",
    "\n",
    "- In normal cases for function args a default order is assumed. Much in the same way, if you go to a restaurant, by default you will get drinks, then appetizers, then entrees, then desserts. However, you are free to ask your waiter to bring your dessert first or bring your appetizer with the meal. You don't need to specify anything if the default order will do, but if you are going to reinvent dinner order, you will need to say something!\n",
    "\n",
    "---\n",
    "\n",
    "## Mix It Up....  but Not With Every Argument?\n",
    "\n",
    "Fun fact: You can provide some args in order - **positional** - and some with keywords.\n",
    "\n",
    "- Undefined are assigned in sequential order.\n",
    "- Keywords have to come last! - then, in any order.\n",
    "\n"
   ]
  },
  {
   "cell_type": "code",
   "execution_count": 14,
   "id": "meaning-hepatitis",
   "metadata": {},
   "outputs": [
    {
     "name": "stdout",
     "output_type": "stream",
     "text": [
      "You're drinking water\n",
      "You're snacking on chicken wings\n",
      "You're drinking steak\n",
      "You're wrapping up with milkshake\n",
      "\n",
      "You're drinking water\n",
      "You're snacking on nachos\n",
      "You're drinking steak\n",
      "You're wrapping up with cake\n",
      "\n",
      "You're drinking chicken wings\n",
      "You're snacking on water\n",
      "You're drinking medium steak\n",
      "You're wrapping up with milkshake\n",
      "\n"
     ]
    }
   ],
   "source": [
    "def dinner(drink, app, main_course, dessert):\n",
    "    print(\"You're drinking\", drink)\n",
    "    print(\"You're snacking on\", app)\n",
    "    print(\"You're drinking\", main_course)\n",
    "    print(\"You're wrapping up with\", dessert)\n",
    "\n",
    "# all keyword arguments\n",
    "dinner(app=\"chicken wings\", main_course=\"steak\", drink=\"water\", dessert=\"milkshake\")\n",
    "print()\n",
    "\n",
    "# mix of positional and keyword arguments\n",
    "dinner(\"water\", \"nachos\", dessert=\"cake\", main_course=\"steak\")\n",
    "print()\n",
    "\n",
    "# mix of positional and keyword arguments; note the order of the output\n",
    "dinner(\"chicken wings\", \"water\", dessert=\"milkshake\", main_course=\"medium steak\")\n",
    "print()\n",
    "\n",
    "# what happens when you put a keyword argument before a positional argument?\n",
    "# dinner(main_course= \"steak\", \"nachos\", \"water\", dessert=\"cake\")\n",
    "\n",
    "# what happens when you repeat a keyword argument?\n",
    "# dinner(app=\"nachos\", app=\"steak\", app=\"water\", dessert=\"cake\")"
   ]
  },
  {
   "cell_type": "markdown",
   "id": "exciting-perry",
   "metadata": {},
   "source": [
    "</aside>\n",
    "\n",
    "___\n",
    "\n",
    "## Quick Review\n",
    "\n",
    "`*args`: Any number of arguments - even 0! - can be passed in.\n",
    "\n"
   ]
  },
  {
   "cell_type": "code",
   "execution_count": 15,
   "id": "breathing-negotiation",
   "metadata": {},
   "outputs": [
    {
     "name": "stdout",
     "output_type": "stream",
     "text": [
      "15\n"
     ]
    }
   ],
   "source": [
    "def sum_everything(*args):\n",
    "    total = 0\n",
    "\n",
    "    for num in args:\n",
    "        total += num\n",
    "    print(total)\n",
    "\n",
    "sum_everything(4, 5, 6) # Prints 15\n"
   ]
  },
  {
   "cell_type": "markdown",
   "id": "generous-intellectual",
   "metadata": {},
   "source": [
    "\n",
    "Keyword arguments (kwargs): Arguments can be passed in out of order.\n",
    "\n"
   ]
  },
  {
   "cell_type": "code",
   "execution_count": null,
   "id": "possible-credits",
   "metadata": {},
   "outputs": [],
   "source": [
    "def divide(first, second, third):\n",
    "    print(first / second / third)\n",
    "\n",
    "divide(first=10, second=2, third=1)\n",
    "divide(second=2, third=1, first=10)"
   ]
  },
  {
   "cell_type": "markdown",
   "id": "amino-stake",
   "metadata": {},
   "source": [
    "\n",
    "---\n",
    "\n",
    "## Discussion: Variable Numbers of Kwargs?\n",
    "\n",
    "What if I go to Froyo? I need:\n",
    "\n",
    "- One argument `spoon`, to pick a spoon size.\n",
    "- A variable number of arguments for all the flavors of frozen yogurt I might eat!\n",
    "\n",
    "`def yogurt_land(*args)`?\n",
    "\n",
    "- No! `*args` won't work - we need to know which arg is the spoon.\n",
    "\n",
    "`def yogurt_land(spoon, froyo)`?\n",
    "\n",
    "- No! We don't know the number of froyo arguments.\n",
    "\n",
    "___\n",
    "\n",
    "## Introducing: `**kwargs`\n",
    "\n",
    "The `*` in `*args` means: Any  number of arguments.\n",
    "\n",
    "Let's add `**` to our kwargs: `**kwargs` can take a variable number of arguments. Note the double `**`!\n",
    "\n"
   ]
  },
  {
   "cell_type": "code",
   "execution_count": null,
   "id": "contrary-junction",
   "metadata": {},
   "outputs": [],
   "source": [
    "def yogurt_land(spoon, **kwargs):\n",
    "    print(spoon)\n",
    "    # We need a loop, because we don't know how many kwargs there are.\n",
    "    for keyword, flavor in kwargs.items():\n",
    "    # kwargs.items has the keyword and the value, which we're calling \"flavor\" in the loop.\n",
    "        print(\"My\", keyword, \"is a\", flavor)\n",
    "\n",
    "# Like before, the unnamed arg has to come first!\n",
    "yogurt_land(\"large!\", first_froyo=\"vanilla\", second_froyo=\"chocolate\", third_froyo=\"banana\")"
   ]
  },
  {
   "cell_type": "markdown",
   "id": "universal-reaction",
   "metadata": {},
   "source": [
    "\n",
    "---\n",
    "\n",
    "## We Do: 4 Froyos\n",
    "\n",
    "* Can we subtract one of the froyos?\n",
    "* Where is my 4th froyo?\n",
    "* What if I drop all my froyos on the ground? (No kwargs)\n",
    "* Can I skip the drink or spoon positional arguments?"
   ]
  },
  {
   "cell_type": "code",
   "execution_count": 17,
   "id": "common-pharmaceutical",
   "metadata": {},
   "outputs": [
    {
     "name": "stdout",
     "output_type": "stream",
     "text": [
      "Here is your spoon!\n",
      "Here is your water\n",
      "My first_froyo is a vanilla\n",
      "My second_froyo is a chocolate\n",
      "My third_froyo is a banana\n",
      "\n",
      "Here is your spoon!\n",
      "Here is your water\n",
      "My first_froyo is a vanilla\n",
      "My second_froyo is a chocolate\n",
      "\n",
      "Here is your spoon!\n",
      "Here is your water\n",
      "My first_froyo is a vanilla\n",
      "My second_froyo is a chocolate\n",
      "My third_froyo is a banana\n",
      "My fourth_froyo is a cherry\n",
      "\n",
      "Here is your spoon!\n",
      "Here is your water\n",
      "\n"
     ]
    },
    {
     "ename": "TypeError",
     "evalue": "yogurt_land() missing 2 required positional arguments: 'drink' and 'spoon'",
     "output_type": "error",
     "traceback": [
      "\u001b[1;31m---------------------------------------------------------------------------\u001b[0m",
      "\u001b[1;31mTypeError\u001b[0m                                 Traceback (most recent call last)",
      "\u001b[1;32m<ipython-input-17-813855edfbe6>\u001b[0m in \u001b[0;36m<module>\u001b[1;34m\u001b[0m\n\u001b[0;32m     26\u001b[0m \u001b[1;33m\u001b[0m\u001b[0m\n\u001b[0;32m     27\u001b[0m \u001b[1;31m# skip the positional args?\u001b[0m\u001b[1;33m\u001b[0m\u001b[1;33m\u001b[0m\u001b[1;33m\u001b[0m\u001b[0m\n\u001b[1;32m---> 28\u001b[1;33m \u001b[0myogurt_land\u001b[0m\u001b[1;33m(\u001b[0m\u001b[0mfirst_froyo\u001b[0m\u001b[1;33m=\u001b[0m\u001b[1;34m\"vanilla\"\u001b[0m\u001b[1;33m,\u001b[0m \u001b[0msecond_froyo\u001b[0m\u001b[1;33m=\u001b[0m\u001b[1;34m\"chocolate\"\u001b[0m\u001b[1;33m,\u001b[0m \u001b[0mthird_froyo\u001b[0m\u001b[1;33m=\u001b[0m\u001b[1;34m\"banana\"\u001b[0m\u001b[1;33m)\u001b[0m\u001b[1;33m\u001b[0m\u001b[1;33m\u001b[0m\u001b[0m\n\u001b[0m",
      "\u001b[1;31mTypeError\u001b[0m: yogurt_land() missing 2 required positional arguments: 'drink' and 'spoon'"
     ]
    }
   ],
   "source": [
    "def yogurt_land(drink, spoon, **kwargs):\n",
    "    if spoon:\n",
    "        print(\"Here is your spoon!\")\n",
    "\n",
    "    else:\n",
    "        print(\"No spoon, no worries\")\n",
    "\n",
    "    print(\"Here is your\", drink)\n",
    "\n",
    "    for keyword, flavor in kwargs.items():\n",
    "        print(\"My\", keyword, \"is a\", flavor)\n",
    "        \n",
    "    print()\n",
    "\n",
    "\n",
    "yogurt_land(\"water\", \"large\", first_froyo=\"vanilla\", second_froyo=\"chocolate\", third_froyo=\"banana\")\n",
    "\n",
    "# subtract a froyo\n",
    "yogurt_land(\"water\", \"large\", first_froyo=\"vanilla\", second_froyo=\"chocolate\")\n",
    "\n",
    "# add a fourth froyo\n",
    "yogurt_land(\"water\", \"large\", first_froyo=\"vanilla\", second_froyo=\"chocolate\", third_froyo=\"banana\", fourth_froyo=\"cherry\")\n",
    "\n",
    "# drop all froyos\n",
    "yogurt_land(\"water\", \"large\")\n",
    "\n",
    "# skip the positional args?\n",
    "yogurt_land(first_froyo=\"vanilla\", second_froyo=\"chocolate\", third_froyo=\"banana\")"
   ]
  },
  {
   "cell_type": "markdown",
   "id": "moved-choir",
   "metadata": {},
   "source": [
    "</aside>\n",
    "\n",
    "---\n",
    "\n",
    "## Quick Review of Useful Argument Types:\n",
    "\n",
    "At this point, we have `*args`, `kwargs` and `**kwargs`:\n",
    "\n"
   ]
  },
  {
   "cell_type": "code",
   "execution_count": 18,
   "id": "active-curtis",
   "metadata": {},
   "outputs": [
    {
     "name": "stdout",
     "output_type": "stream",
     "text": [
      "5.0\n",
      "froyo1 is a vanilla\n",
      "froyo2 is a chocolate\n",
      "froyo3 is a banana\n"
     ]
    }
   ],
   "source": [
    "# Args: Any number of arguments:\n",
    "def multiply(*args):\n",
    "    product = 1\n",
    "    for num in args:\n",
    "        product *= num\n",
    "\n",
    "multiply(4, 5, 6)\n",
    "\n",
    "# Kwargs: Named (keyword) arguments\n",
    "def triple_divide(x, y, z):\n",
    "    print(x / y / z)\n",
    "\n",
    "triple_divide(x=10, y=2, z=1)\n",
    "\n",
    "# **Kwargs: Any number of Kwargs\n",
    "def my_froyo(spoon, **kwargs):\n",
    "    for froyo, flavor in kwargs.items():\n",
    "        print(froyo, \"is a\", flavor)\n",
    "\n",
    "my_froyo(\"large!\", froyo1=\"vanilla\", froyo2=\"chocolate\", froyo3=\"banana\")\n"
   ]
  },
  {
   "cell_type": "markdown",
   "id": "stone-cream",
   "metadata": {},
   "source": [
    "\n",
    "---\n",
    "\n",
    "## Discussion: Printing\n",
    "\n",
    "`print` is a function! That's why it has parentheses!\n",
    "- It's built into Python, so you don't have to define it. You can just use it.\n",
    "\n",
    "When printing, commas automatically add spaces:\n",
    "\n"
   ]
  },
  {
   "cell_type": "code",
   "execution_count": 19,
   "id": "solar-madrid",
   "metadata": {},
   "outputs": [
    {
     "name": "stdout",
     "output_type": "stream",
     "text": [
      "Hi! Vanilla, please.\n"
     ]
    }
   ],
   "source": [
    "print(\"Hi!\", \"Vanilla,\", \"please.\")"
   ]
  },
  {
   "cell_type": "markdown",
   "id": "lonely-performer",
   "metadata": {},
   "source": [
    "But since `print` is a function, too - do you think there's anything we can do to change those spaces to something else?\n",
    "\n"
   ]
  },
  {
   "cell_type": "code",
   "execution_count": 20,
   "id": "modern-argentina",
   "metadata": {},
   "outputs": [
    {
     "name": "stdout",
     "output_type": "stream",
     "text": [
      "Hi!-and-Vanilla,-and-please.\n"
     ]
    }
   ],
   "source": [
    "# Hi!-and-Vanilla,-and-please.\n",
    "print(\"Hi!\", \"Vanilla,\", \"please.\", sep='-and-')"
   ]
  },
  {
   "cell_type": "markdown",
   "id": "excited-concentration",
   "metadata": {},
   "source": [
    "\n",
    "</aside>\n",
    "\n",
    "---\n",
    "\n",
    "## Quick Review\n",
    "\n",
    "So  far, we've learned:\n",
    "\n",
    "- `*args`:\n",
    "    - ​A variable number of function arguments.\n",
    "- kwargs:\n",
    "    - ​A set number of function arguments.\n",
    "    - Can be defined out of order\n",
    "- `**kwargs`:\n",
    "    - Any number of positional arguments.\n",
    "- `sep` in print.\n",
    "\n",
    "There's one more: Optional parameters.\n",
    "\n",
    "---\n",
    "\n",
    "## Optional Parameters with Default Values\n",
    "\n",
    "This idea exists in programming - you've already seen it!\n",
    "\n",
    "The default value for `sep` in `print` is `\" \"`. You don't **need** to include it.\n",
    "\n",
    "This makes it optional! **Optional parameters** have default values, so you don't need to include them.\n",
    "\n",
    "- Only include them if you want to change them!\n",
    "\n"
   ]
  },
  {
   "cell_type": "code",
   "execution_count": 23,
   "id": "representative-cincinnati",
   "metadata": {},
   "outputs": [
    {
     "name": "stdout",
     "output_type": "stream",
     "text": [
      "Hello my name is Carl and I enjoy cake :)\n",
      "Hello HELLO my HELLO name HELLO is HELLO Carl HELLO and HELLO I HELLO enjoy HELLO cake HELLO :)\n"
     ]
    }
   ],
   "source": [
    "name = 'Carl'\n",
    "dessert = 'cake'\n",
    "\n",
    "# Here, `sep` is optional to include. It defaults to a space \" \".\n",
    "print(\"Hello\", \"my\", \"name\", \"is\", name, \"and\", \"I\", \"enjoy\", dessert, \":)\")\n",
    "\n",
    "# But we can include it, if we want, and `sep` will use our value instead of the space.\n",
    "print(\"Hello\", \"my\", \"name\", \"is\", name, \"and\", \"I\", \"enjoy\", dessert, \":)\", sep=\" HELLO \")\n"
   ]
  },
  {
   "cell_type": "markdown",
   "id": "unlikely-constitution",
   "metadata": {},
   "source": [
    "Default parameters are in the *function declaration*.\n",
    "\n",
    "They're there if you don't include a value.\n",
    "\n",
    "---\n",
    "\n",
    "\n",
    "## Any Functions: Optional Parameters with Default Values\n",
    "\n",
    "These can be added to any functions.\n",
    "\n",
    "Here, `c` has a default of `20`. We don't need to include it!\n",
    "\n"
   ]
  },
  {
   "cell_type": "code",
   "execution_count": 24,
   "id": "amino-antibody",
   "metadata": {},
   "outputs": [
    {
     "name": "stdout",
     "output_type": "stream",
     "text": [
      "23\n",
      "7\n"
     ]
    }
   ],
   "source": [
    "# Optional parameters: Default values are only used if needed.\n",
    "def my_func(a, b, c=20):\n",
    "    print(a + b + c)\n",
    "my_func(1, 2)\n",
    "# Uses the default! Prints 23.\n",
    "my_func(1, 2, 4)\n",
    "# Overrides the default! Prints 7."
   ]
  },
  {
   "cell_type": "markdown",
   "id": "entire-treat",
   "metadata": {},
   "source": [
    "---\n",
    "\n",
    "## Partner Exercise: Poke At It!\n",
    "\n",
    "Pair up! Choose a driver and a navigator.\n",
    "\n",
    "- Write a function, `print_food` that has four optional parameters (all with defaults of your choice): `favorite_food`, `lunch_today`, `lunch_yesterday`, and `breakfast`.\n",
    "\n",
    "`print_food` should print out each of these.\n",
    "\n",
    "Call this with a couple different arguments:\n",
    "\n",
    "- No arguments.\n",
    "- All arguments - a regular function call.\n",
    "- 2 keyword arguments. Give all four arguments, but use a keyword for `lunch_yesterday` and `breakfast`.\n",
    "- All keyword arguments - out of order."
   ]
  },
  {
   "cell_type": "code",
   "execution_count": 25,
   "id": "universal-publisher",
   "metadata": {},
   "outputs": [
    {
     "name": "stdout",
     "output_type": "stream",
     "text": [
      "favorite_food: cheeseburger\n",
      "lunch today: pasta\n",
      "lunch yesterday: salad\n",
      "breakfast: cereal\n",
      "\n",
      "favorite_food: pizza\n",
      "lunch today: sandwich\n",
      "lunch yesterday: chicken\n",
      "breakfast: banana\n",
      "\n",
      "favorite_food: pizza\n",
      "lunch today: sandwich\n",
      "lunch yesterday: chicken\n",
      "breakfast: banana\n",
      "\n",
      "favorite_food: pizza\n",
      "lunch today: sandwich\n",
      "lunch yesterday: chicken\n",
      "breakfast: banana\n",
      "\n"
     ]
    }
   ],
   "source": [
    "def print_food(favorite_food='cheeseburger', lunch_today='pasta', lunch_yesterday='salad', breakfast='cereal'):\n",
    "    print('favorite_food:', favorite_food)\n",
    "    print('lunch today:', lunch_today)\n",
    "    print('lunch yesterday:', lunch_yesterday)\n",
    "    print('breakfast:', breakfast)\n",
    "    print() #added for clarity\n",
    "    \n",
    "print_food()\n",
    "print_food('pizza', 'sandwich', 'chicken', 'banana')\n",
    "print_food('pizza', 'sandwich', breakfast='banana', lunch_yesterday='chicken')\n",
    "print_food(lunch_today='sandwich', favorite_food='pizza', breakfast='banana', lunch_yesterday='chicken')"
   ]
  },
  {
   "cell_type": "markdown",
   "id": "blocked-mixture",
   "metadata": {},
   "source": [
    "---\n",
    "\n",
    "## Optional Practice: Keep Poking!\n",
    "Underneath `print_food`, rewrite it, twice.\n",
    "\n",
    "First, write `print_food_args`, using `*args` as the parameter. Start the function by printing `args`, so you can see what's going on. Then, print the values you pass in.\n",
    "\n",
    "Then, write `print_food_kwargs`, using `**kwargs` as the parameter. Start the function by printing `kwargs`, so you can see what's going on. Then, as above, print the values you pass in."
   ]
  },
  {
   "cell_type": "code",
   "execution_count": 26,
   "id": "amber-colorado",
   "metadata": {},
   "outputs": [
    {
     "name": "stdout",
     "output_type": "stream",
     "text": [
      "('pizza', 'sandwich', 'chicken', 'banana')\n",
      "pizza\n",
      "sandwich\n",
      "chicken\n",
      "banana\n",
      "\n",
      "dict_items([('best_dessert', 'cake'), ('favorite_food', 'pizza')])\n",
      "best_dessert: cake\n",
      "favorite_food: pizza\n"
     ]
    }
   ],
   "source": [
    "def print_food(*args):\n",
    "    print(args)\n",
    "    \n",
    "    for food in args:\n",
    "        print(food)\n",
    "\n",
    "print_food('pizza', 'sandwich', 'chicken', 'banana')\n",
    "\n",
    "print() #added for clarity\n",
    "\n",
    "def print_food(**kwargs):\n",
    "    print(kwargs.items())\n",
    "    \n",
    "    for key, value in kwargs.items():\n",
    "        print(f\"{key}: {value}\")\n",
    "        \n",
    "print_food(best_dessert='cake', favorite_food='pizza')"
   ]
  },
  {
   "cell_type": "markdown",
   "id": "sharp-music",
   "metadata": {},
   "source": [
    "---\n",
    "\n",
    "## Summary + Q&A\n",
    "\n",
    "- `*args`:\n",
    "    - ​A variable number of function arguments.\n",
    "    - Taken in any order.\n",
    "    - `def multiply(*args):`\n",
    "- kwargs:\n",
    "    - ​A set number of function arguments.\n",
    "    - Can be defined out of order\n",
    "    - `my_func(a=1, b=2, c=3)`\n",
    "- `**kwargs`:\n",
    "    ​- Any number of positional arguments.\n",
    "    - `def froyo(*kwargs)`\n",
    "- sep in print.\n",
    "- Optional parameters:\n",
    "    - Default values in the function declaration\n",
    "    - `def my_func(a=10, b=15, c=20)`\n",
    "\n",
    "---\n",
    "\n",
    "## Additional Resources\n",
    "\n",
    "* [Optional Parameter Repl.it](https://repl.it/@GAcoding/python-programming-optional-parameters)\n",
    "* [Keyword Args](http://treyhunner.com/2018/04/keyword-arguments-in-python/)\n",
    "* [Args and Kwargs](https://www.digitalocean.com/community/tutorials/how-to-use-args-and-kwargs-in-python-3)\n",
    "* [Defining Functions](https://docs.python.org/3/tutorial/controlflow.html#more-on-defining-functions)"
   ]
  }
 ],
 "metadata": {
  "kernelspec": {
   "display_name": "Python 3",
   "language": "python",
   "name": "python3"
  },
  "language_info": {
   "codemirror_mode": {
    "name": "ipython",
    "version": 3
   },
   "file_extension": ".py",
   "mimetype": "text/x-python",
   "name": "python",
   "nbconvert_exporter": "python",
   "pygments_lexer": "ipython3",
   "version": "3.7.6"
  }
 },
 "nbformat": 4,
 "nbformat_minor": 5
}
