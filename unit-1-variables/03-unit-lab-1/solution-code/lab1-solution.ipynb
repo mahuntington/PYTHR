{
 "cells": [
  {
   "cell_type": "markdown",
   "metadata": {},
   "source": [
    "### ![](https://ga-dash.s3.amazonaws.com/production/assets/logo-9f88ae6c9c3871690e33280fcf557f33.png)\n",
    "\n",
    "# Unit 1 Lab: Variables\n",
    "\n",
    "## Overview\n",
    "Welcome to the first unit lab!\n",
    "\n",
    "Throughout the course, there is a lab at the end of each unit. Each lab builds upon the prior.\n",
    "\n",
    "At the end of the Unit 5 lab, you're going to have a mocked application capable of calling an API and returning a result, using object oriented structure.\n",
    "\n",
    "To get started, let's set up some variables and print out their values.\n"
   ]
  },
  {
   "cell_type": "markdown",
   "metadata": {},
   "source": [
    "#### Prompts\n",
    "\n",
    "For these labs, you'll receive instructions in-line in your starter notebook, like this.\n",
    "\n",
    "Let's get started by defining a variable, `movie_title`, and setting the value equal to `\"Back to the Future\"`."
   ]
  },
  {
   "cell_type": "code",
   "execution_count": 1,
   "metadata": {},
   "outputs": [],
   "source": [
    "movie_title = \"Back to the Future\""
   ]
  },
  {
   "cell_type": "markdown",
   "metadata": {},
   "source": [
    "#### Movie Rating\n",
    "\n",
    "Now, set a new variable, `movie_rating` to a value of `8`."
   ]
  },
  {
   "cell_type": "code",
   "execution_count": 2,
   "metadata": {},
   "outputs": [],
   "source": [
    "movie_rating = 8"
   ]
  },
  {
   "cell_type": "markdown",
   "metadata": {},
   "source": [
    "#### Print the Result\n",
    "\n",
    "Finally, use the print statement to print `The rating for <movie_title> is <movie_rating>`."
   ]
  },
  {
   "cell_type": "code",
   "execution_count": 4,
   "metadata": {},
   "outputs": [
    {
     "name": "stdout",
     "output_type": "stream",
     "text": [
      "The rating for Back to the Future is 8.\n"
     ]
    }
   ],
   "source": [
    "print(f\"The rating for {movie_title} is {movie_rating}.\")"
   ]
  },
  {
   "cell_type": "code",
   "execution_count": null,
   "metadata": {},
   "outputs": [],
   "source": []
  }
 ],
 "metadata": {
  "kernelspec": {
   "display_name": "Python 3",
   "language": "python",
   "name": "python3"
  },
  "language_info": {
   "codemirror_mode": {
    "name": "ipython",
    "version": 3
   },
   "file_extension": ".py",
   "mimetype": "text/x-python",
   "name": "python",
   "nbconvert_exporter": "python",
   "pygments_lexer": "ipython3",
   "version": "3.7.6"
  }
 },
 "nbformat": 4,
 "nbformat_minor": 2
}
