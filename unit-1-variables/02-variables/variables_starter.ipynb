{
 "cells": [
  {
   "cell_type": "markdown",
   "id": "dangerous-colon",
   "metadata": {},
   "source": [
    "<h1>Python Programming: Variables</h1>\n",
    "\n",
    "## Overview\n",
    "This lesson introduces students to the concept of creating and assigning variables - numeric variables (including basic math functions / numerical operators) and string variables (including concatenation). There is a small section near the end on different ways to print these variables.\n",
    "\n",
    "---\n",
    "## Lesson Objectives\n",
    "*After this lesson, you will be able to...*\n",
    "\n",
    "* Create and re-assign numerical and string variables.\n",
    "* Use numerical operators.\n",
    "* Print complex variable structures.\n",
    "---\n",
    "## What's a Variable?\n",
    "\n",
    "Turn to the person next to you, and together come up with as many definitions for the word \"variable\" as you can.\n",
    "\n",
    "- Consider contexts such as mathematics, the sciences, weather, etc.\n",
    "- No cheating! Phones off and laptops closed.\n",
    "---\n",
    "## Variable\n",
    "\n",
    "\n",
    "Variables:\n",
    "\n",
    "- Are boxes that can hold all kinds of information for you.\n",
    "- Make it easier to store and re-use values.\n",
    "- Are the most basic piece of code.\n",
    "\n",
    "To use a variable, we simply announce that we want to use it (we **declare** it).\n",
    "\n"
   ]
  },
  {
   "cell_type": "code",
   "execution_count": null,
   "id": "fuzzy-depression",
   "metadata": {},
   "outputs": [],
   "source": []
  },
  {
   "cell_type": "markdown",
   "id": "friendly-aerospace",
   "metadata": {},
   "source": [
    "---\n",
    "## Naming Conventions: Mistakes and Syntax\n",
    "\n",
    "Some common naming mistakes:\n",
    "\n",
    "- Not using meaningful names. `delicious = 3` doesn't mean anything - `cupcakes_ive_eaten = 3` does!\n",
    "- Case sensitivity (`CUPCAKES_IVE_EATEN` and `cupcakes_ive_eaten` are not the same!)\n",
    "- No spaces or punctuation (\"cupcakes i've eaten\" isn't allowed)\n",
    "  - This is invalid **syntax**\n",
    "  - Use snake_case: `lowercase_letters_with_underscores` (it's in the official [Python style guide](https://www.python.org/dev/peps/pep-0008/#descriptive-naming-styles))\n",
    "---\n",
    "## Discussion: Changing Values\n",
    "\n",
    "What if, later, you eat more cupcakes? Now, this is wrong.\n",
    "\n"
   ]
  },
  {
   "cell_type": "code",
   "execution_count": null,
   "id": "modular-trademark",
   "metadata": {},
   "outputs": [],
   "source": [
    "cupcakes_ive_eaten = 3"
   ]
  },
  {
   "cell_type": "markdown",
   "id": "innocent-uruguay",
   "metadata": {},
   "source": [
    "What do you think we need to do?\n",
    "\n",
    "---\n",
    "## Discussion: Reassigning Variables\n",
    "\n",
    "In the example below, what do you think the output of the code is?\n",
    "\n"
   ]
  },
  {
   "cell_type": "code",
   "execution_count": null,
   "id": "parental-headset",
   "metadata": {},
   "outputs": [],
   "source": [
    "cupcakes_ive_eaten = 3\n",
    "print(cupcakes_ive_eaten)\n",
    "cupcakes_ive_eaten = 4\n",
    "print(cupcakes_ive_eaten)"
   ]
  },
  {
   "cell_type": "markdown",
   "id": "finnish-corps",
   "metadata": {},
   "source": [
    "---\n",
    "## Quick Review\n",
    "\n",
    "- A variable is a box that holds a value.\n",
    "\n",
    "- It can be declared, called, and changed within your program.\n",
    "\n",
    "- When declaring variables, syntax and naming conventions matter!\n",
    "\n",
    "- Variables can be reassigned as often as you like, but only the most recent declaration counts.\n",
    "\n",
    "**UP NEXT:** Math!\n",
    "\n",
    "---\n",
    "## Mathematical Operators\n",
    "\n",
    "Math works on numerical variables, too!\n",
    "\n",
    "- The `+`, `-`, `*` (multiply), and `/` (divide) operators work just like they do with regular math.\n",
    "\n"
   ]
  },
  {
   "cell_type": "code",
   "execution_count": null,
   "id": "known-collect",
   "metadata": {},
   "outputs": [],
   "source": []
  },
  {
   "cell_type": "markdown",
   "id": "signed-edward",
   "metadata": {},
   "source": [
    "---\n",
    "## Even More Mathematical Operators\n",
    "\n",
    "Beyond the `+`, `-`, `*` (multiply), and `/` (divide) operators, we have modulus and exponents.\n",
    "\n"
   ]
  },
  {
   "cell_type": "code",
   "execution_count": null,
   "id": "polished-playlist",
   "metadata": {},
   "outputs": [],
   "source": []
  },
  {
   "cell_type": "markdown",
   "id": "unknown-personal",
   "metadata": {},
   "source": [
    "---\n",
    "## Math On The Same Variable\n",
    "\n",
    "You can reassign a variable *using that very same variable* - or other variables!\n",
    "\n"
   ]
  },
  {
   "cell_type": "code",
   "execution_count": null,
   "id": "minimal-lawyer",
   "metadata": {},
   "outputs": [],
   "source": []
  },
  {
   "cell_type": "markdown",
   "id": "rocky-isaac",
   "metadata": {},
   "source": [
    "---\n",
    "## Partner Exercise: Mathematical Operators\n",
    "\n",
    "In pair programming, one person serves as the driver -- they are sharing their screen and typing -- and one person serves as the navigator -- they provide guidance as the code is written.\n",
    "- When you pair up, decide who will be the driver and who will be the navigator. Then, follow the directions in the comments."
   ]
  },
  {
   "cell_type": "code",
   "execution_count": null,
   "id": "pressed-sphere",
   "metadata": {},
   "outputs": [],
   "source": [
    "# Make a variable to hold the number of guitars you own (3).\n",
    "\n",
    "# Make a variable to hold the number of guitars Nikhil owns (1).\n",
    "\n",
    "# You give 2 of your guitars to Nikhil, so subtract 2 from you and add 2 to Nikhil.\n"
   ]
  },
  {
   "cell_type": "markdown",
   "id": "recovered-dress",
   "metadata": {},
   "source": [
    "---\n",
    "## Reassignment Shorthand\n",
    "\n",
    "This is okay:"
   ]
  },
  {
   "cell_type": "code",
   "execution_count": null,
   "id": "phantom-fundamental",
   "metadata": {},
   "outputs": [],
   "source": []
  },
  {
   "cell_type": "markdown",
   "id": "attached-foundation",
   "metadata": {},
   "source": [
    "\n",
    "But this is better:\n",
    "\n"
   ]
  },
  {
   "cell_type": "code",
   "execution_count": null,
   "id": "racial-empty",
   "metadata": {},
   "outputs": [],
   "source": []
  },
  {
   "cell_type": "markdown",
   "id": "horizontal-female",
   "metadata": {},
   "source": [
    "This works with `+=`, `-=`, `*=`, `/=` - any math operations.\n",
    "\n",
    "---\n",
    "## Partner Exercise: Numerical Reassignment\n",
    "\n",
    "Get with the same partner, but switch driver and navigator roles.\n",
    "\n",
    "- Remember, in pair programming, one person serves as the driver -- their hands are on the keyboard -- and one person serves as the navigator -- they provide guidance as the code is written.\n",
    "- Follow the directions in the comments."
   ]
  },
  {
   "cell_type": "code",
   "execution_count": null,
   "id": "agreed-fantasy",
   "metadata": {},
   "outputs": [],
   "source": [
    "# - Declare two variables `num1` and `num2` and assign them to any numbers you'd like.\n",
    "\n",
    "# - Set `num1` to the result of subtracting `num1` from the `num2`.\n",
    "\n",
    "# - Create a new variable `num3` that will help us tell if `num2` is even or odd.\n",
    "\n",
    "# - Using shorthand, add 5 to `num1`.\n",
    "\n",
    "# - Print out `num1`, `num2`, and `num3`\n"
   ]
  },
  {
   "cell_type": "markdown",
   "id": "sticky-drove",
   "metadata": {},
   "source": [
    "---\n",
    "## Important Aside: Even or Odd?\n",
    "\n",
    "Is 6 even or odd?\n",
    "\n",
    "Is 7 even or odd?\n",
    "\n",
    "How do you think a computer knows?\n",
    "\n",
    "Modulus operator shows the remainder of a division problem.\n",
    "\n",
    "Modding by 2 only gives a `0` or a `1`.\n",
    "\n",
    "- **4 % 2**:\n",
    "  - `4 % 2 = 0`. Even!\n",
    "- **5 % 2**:\n",
    "  - `5 % 2 = 1`. Odd!\n",
    "---\n",
    "## Quick Review\n",
    "\n",
    "- A variable is a value that can be defined, declared, called and changed within your program.\n",
    "    - `my_number = 5`\n",
    "- Naming:\n",
    "    - Variable names are case sensitive.\n",
    "    - Use `snake_case`!\n",
    "- Variables can be reassigned as often as you like, but only the most recent declaration counts.\n",
    "- Python can do math using operators, such as `+`, `-`, `*`, and `/`\n",
    "    - You can shorthand the math assignments: `my_num += 7`\n",
    "---\n",
    "## Taking a Breather\n",
    "\n",
    "That was a lot of math!\n",
    "\n",
    "When it comes down to it, computers operate with a simple, straightforward logic.\n",
    "\n",
    "Let's switch gears. Up next: Strings!\n",
    "\n",
    "---\n",
    "## Introducing Strings\n",
    "\n",
    "A *character* is:\n",
    "\n",
    "- Anything on your keyboard , such as a letter or a number.\n",
    "- \"Apple\" is five characters: a, p, p, l, e.\n",
    "- Spaces count! (they're on the keyboard!)\n",
    "\n",
    "A *string* is:\n",
    "\n",
    "- A complete list of characters.\n",
    "- \"Apple\"\n",
    "- \"Chocolate Cupcake\"\n",
    "- This entire sentence: \"Hello, you are 1 of a kind!\"\n",
    "\n",
    "---\n",
    "\n",
    "## How Do I Create Strings in Python?\n",
    "\n",
    "\n",
    "You tell Python that your variable will hold a string using quotation marks."
   ]
  },
  {
   "cell_type": "code",
   "execution_count": null,
   "id": "duplicate-humor",
   "metadata": {},
   "outputs": [],
   "source": []
  },
  {
   "cell_type": "markdown",
   "id": "burning-floating",
   "metadata": {},
   "source": [
    "---\n",
    "## We Do: Declaring Strings\n",
    "\n",
    "A \"We Do\" means let's practice together. Follow along!"
   ]
  },
  {
   "cell_type": "code",
   "execution_count": null,
   "id": "suffering-gamma",
   "metadata": {},
   "outputs": [],
   "source": [
    "# 1. We'll declare a variable called `name` and assign it the value `Marty`\n",
    "\n",
    "# 2. We'll declare a variable called `car` and assign it the value `Delorean`\n",
    "\n",
    "# 3. We'll declare a variable called `speed` and assign it the *string* value `\"88\"`\n",
    "\n",
    "# 4. We'll print out these variables\n",
    "\n",
    "# 5. We'll add `4` to `speed`- what happens?\n"
   ]
  },
  {
   "cell_type": "markdown",
   "id": "atmospheric-decimal",
   "metadata": {},
   "source": [
    "---\n",
    "## String Concatenation\n",
    "\n",
    "`+` on:\n",
    "\n",
    "- Numerical variables adds (`5 + 5 = 10`).\n",
    "- String variables *concatenate* (`\"Doc\" + \"Brown\" = \"DocBrown\"`).\n",
    "  - *Pssst: Pronunciation tip: con-CAT-en-ATE*\n",
    "- Numerical strings concatenate to new strings! (`\"5\" + `\"4\"` = `\"54\"`)"
   ]
  },
  {
   "cell_type": "code",
   "execution_count": null,
   "id": "empirical-compromise",
   "metadata": {},
   "outputs": [],
   "source": []
  },
  {
   "cell_type": "markdown",
   "id": "needed-theta",
   "metadata": {},
   "source": [
    "---\n",
    "## We Do: Spaces in Concatenation\n",
    "\n",
    "It's another \"We Do.\" Let's do this together -  follow along!"
   ]
  },
  {
   "cell_type": "code",
   "execution_count": null,
   "id": "german-position",
   "metadata": {},
   "outputs": [],
   "source": [
    "sentence = name + \"is driving his\" + car + speed\n",
    "print(sentence)"
   ]
  },
  {
   "cell_type": "markdown",
   "id": "negative-parish",
   "metadata": {},
   "source": [
    "We expect the sentence to be `Marty is driving his Delorean 88mph`. Is that what we got?\n",
    "\n",
    "- Python put the strings together, but do you notice anything wrong? There is no space between the words! This is because we didn't add the spaces in. It's just one of many reasons why we have to carefully watch our spacing and grammar!\"\n",
    "- Since a space is a character - it's on the keyboard - we can make it a string. Therefore, we can add it into our concatenation. By default, concatenation doesn't have spaces - you'll always have to add them yourself.\n",
    "- You can also `print` directly; you don't necessarily need an extra variable. To print strings next to each other, you separate them with a comma. Then, Python will add the space for you. This isn't concatenating variables, but it's useful to know! Change code to: `sentence = name + \" is driving his \" + car + \" \" + speed`\n",
    "- When `print`ing, commas also create spaces. Change code to: `print(name, \"is driving his\", car, speed)`\n",
    "---\n",
    "## f-strings\n",
    "\n",
    "- f-strings are a way that you can include variables directly in your strings, without having to use concatenation.\n",
    "- They are so-called because you create them by adding the letter 'f' just before the string: `f\"This is an f-string\"`.\n",
    "- You can then include variables or other Python expressions inside your f-string by wrapping them in `{}`: `print(f'{name} is driving their {car} {speed}mph.')`"
   ]
  },
  {
   "cell_type": "code",
   "execution_count": null,
   "id": "optical-nirvana",
   "metadata": {},
   "outputs": [],
   "source": [
    "print(f'{name} is driving their {car} {speed}mph.')"
   ]
  },
  {
   "cell_type": "markdown",
   "id": "coupled-consumer",
   "metadata": {},
   "source": [
    "</aside>\n",
    "\n",
    "---\n",
    "\n",
    "## Strings and Printing: Review\n",
    "\n",
    "Strings are made with quotes:\n",
    "\n"
   ]
  },
  {
   "cell_type": "code",
   "execution_count": null,
   "id": "bridal-wallpaper",
   "metadata": {},
   "outputs": [],
   "source": [
    "name = \"Marty\"\n",
    "car = \"Delorean\"\n",
    "speed = \"88\""
   ]
  },
  {
   "cell_type": "markdown",
   "id": "saving-macedonia",
   "metadata": {},
   "source": [
    "\n",
    "String Concatenation - we need to add the spaces!\n",
    "\n"
   ]
  },
  {
   "cell_type": "code",
   "execution_count": null,
   "id": "perfect-repository",
   "metadata": {},
   "outputs": [],
   "source": [
    "sentence = name + \" is driving his \" + car + \" \" + speed\n",
    "string_numbers = \"88\" + \"51\"\n",
    "# string_numbers = 8851\n"
   ]
  },
  {
   "cell_type": "markdown",
   "id": "vocal-starter",
   "metadata": {},
   "source": [
    "\n",
    "To easily create spaces while printing:\n",
    "\n"
   ]
  },
  {
   "cell_type": "code",
   "execution_count": null,
   "id": "greenhouse-explorer",
   "metadata": {},
   "outputs": [],
   "source": [
    "print(name, \"is driving his\", car, speed)\n",
    "\n",
    "# Or using f-strings\n",
    "\n",
    "print(f'{name} is driving their {car} {speed}mph.')"
   ]
  },
  {
   "cell_type": "markdown",
   "id": "wrong-audience",
   "metadata": {},
   "source": [
    "---\n",
    "## Discussion: Some Common Mistakes: 1\n",
    "\n",
    "\n",
    "Do you think this will run? If yes, what does it print?\n",
    "\n"
   ]
  },
  {
   "cell_type": "code",
   "execution_count": null,
   "id": "adolescent-marketplace",
   "metadata": {},
   "outputs": [],
   "source": [
    "my_num\n",
    "print(my_num)"
   ]
  },
  {
   "cell_type": "markdown",
   "id": "studied-voluntary",
   "metadata": {},
   "source": [
    "---\n",
    "## Discussion: Some Common Mistakes: 2\n",
    "\n",
    "How about this? Does it run? If so, what does it print?"
   ]
  },
  {
   "cell_type": "code",
   "execution_count": null,
   "id": "informational-vacuum",
   "metadata": {},
   "outputs": [],
   "source": [
    "my_num = 5\n",
    "print()"
   ]
  },
  {
   "cell_type": "markdown",
   "id": "perfect-testament",
   "metadata": {},
   "source": [
    "---\n",
    "\n",
    "## Discussion: Some Common Mistakes: 3\n",
    "\n",
    "How about this? Does it run? If so, what does it print?\n",
    "\n"
   ]
  },
  {
   "cell_type": "code",
   "execution_count": null,
   "id": "normal-peoples",
   "metadata": {},
   "outputs": [],
   "source": [
    "my_num = 5\n",
    "my_string = \"Hello\"\n",
    "print(my_num + my_string)"
   ]
  },
  {
   "cell_type": "markdown",
   "id": "posted-temple",
   "metadata": {},
   "source": [
    "---\n",
    "\n",
    "## Discussion: Some Common Mistakes: 4\n",
    "\n",
    "One last question. What does this do?\n",
    "\n"
   ]
  },
  {
   "cell_type": "code",
   "execution_count": null,
   "id": "incomplete-waste",
   "metadata": {},
   "outputs": [],
   "source": [
    "my_num1 = \"10\"\n",
    "my_num2 = \"20\"\n",
    "print(my_num1 + my_num2)"
   ]
  },
  {
   "cell_type": "markdown",
   "id": "homeless-merit",
   "metadata": {},
   "source": [
    "\n",
    "---\n",
    "\n",
    "## Q&A and Summary\n",
    "\n",
    "We learned a lot today!\n",
    "\n",
    "- We created, used, and re-assigned number and string variables.\n",
    "- We used the numerical operators `+ - / * // %`\n",
    "- We did some complex stuff with the `print` function!\n",
    "\n",
    "Congrats! You've finished your first programming lesson!\n",
    "\n",
    "<aside class=\"notes\">\n",
    "\n",
    "**Teaching Tips**:\n",
    "\n",
    "- Summarize the lesson and provide a preview of what’s coming next.\n",
    "- Open your own blank [repl.it](https://repl.it/@GAcoding/blank-repl) in a new tab if needed to recap and be sure everyone is clear.\n",
    "\n",
    "</aside>\n",
    "\n",
    "\n",
    "---\n",
    "\n",
    "## Additional Resources\n",
    "\n",
    "* [A Repl.it Summarizing Print Statements](https://repl.it/@brandiw/Python-01-Variables-4?lite=true)\n",
    "* [Python For Beginners](http://www.pythonforbeginners.com/basics/python-variables)\n",
    "* [Python Programming Tutorial: Variables](https://www.youtube.com/watch?v=vKqVnr0BEJQ)\n",
    "* [Variables in Python](https://www.guru99.com/variables-in-python.html)\n",
    "* [Operators Cheatsheet](http://python-reference.readthedocs.io/en/latest/docs/operators/)\n",
    "* [Python Style Guide: Naming](https://www.python.org/dev/peps/pep-0008/#descriptive-naming-styles)\n",
    "- [Python-Strings](https://www.tutorialspoint.com/python/python_strings.htm)\n",
    "- [String Concatenation and Formatting](http://www.pythonforbeginners.com/concatenation/string-concatenation-and-formatting-in-python)\n",
    "- [String Concatenation and Formatting - Video](https://www.youtube.com/watch?v=jA5LW3bR0Us)\n"
   ]
  }
 ],
 "metadata": {
  "kernelspec": {
   "display_name": "Python 3",
   "language": "python",
   "name": "python3"
  },
  "language_info": {
   "codemirror_mode": {
    "name": "ipython",
    "version": 3
   },
   "file_extension": ".py",
   "mimetype": "text/x-python",
   "name": "python",
   "nbconvert_exporter": "python",
   "pygments_lexer": "ipython3",
   "version": "3.7.6"
  }
 },
 "nbformat": 4,
 "nbformat_minor": 5
}
